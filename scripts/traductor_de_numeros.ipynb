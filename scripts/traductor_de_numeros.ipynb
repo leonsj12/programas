{
  "nbformat": 4,
  "nbformat_minor": 0,
  "metadata": {
    "colab": {
      "provenance": []
    },
    "kernelspec": {
      "name": "python3",
      "display_name": "Python 3"
    },
    "language_info": {
      "name": "python"
    }
  },
  "cells": [
    {
      "cell_type": "markdown",
      "source": [
        "# Programa para traducir números del 1 al 10 al inglés\n",
        "# Solicita un número al usuario y lo convierte en un entero"
      ],
      "metadata": {
        "id": "_34r5CGiALGF"
      }
    },
    {
      "cell_type": "markdown",
      "source": [
        "# Evalúa el número ingresado y muestra la traducción en inglés"
      ],
      "metadata": {
        "id": "5AqWuQsf_vXI"
      }
    },
    {
      "cell_type": "code",
      "execution_count": 4,
      "metadata": {
        "colab": {
          "base_uri": "https://localhost:8080/"
        },
        "id": "srngyPQ3-A8v",
        "outputId": "1819a8fa-d73b-4b83-ee7e-c331eea700b5"
      },
      "outputs": [
        {
          "output_type": "stream",
          "name": "stdout",
          "text": [
            "Ingresa un número del 1 al 10: 8\n",
            "Eight\n"
          ]
        }
      ],
      "source": [
        "numero = int(input(\"Ingresa un número del 1 al 10: \"))\n",
        "if numero == 1:\n",
        "    print(\"One\")  # Uno\n",
        "elif numero == 2:\n",
        "    print(\"Two\")  # Dos\n",
        "elif numero == 3:\n",
        "    print(\"Three\")  # Tres\n",
        "elif numero == 4:\n",
        "    print(\"Four\")  # Cuatro\n",
        "elif numero == 5:\n",
        "    print(\"Five\")  # Cinco\n",
        "elif numero == 6:\n",
        "    print(\"Six\")  # Seis\n",
        "elif numero == 7:\n",
        "    print(\"Seven\")  # Siete\n",
        "elif numero == 8:\n",
        "    print(\"Eight\")  # Ocho\n",
        "elif numero == 9:\n",
        "    print(\"Nine\")  # Nueve\n",
        "elif numero == 10:\n",
        "    print(\"Ten\")  # Diez\n",
        "else:\n",
        "    # Si el número no está en el rango del 1 al 10, muestra un mensaje de error\n",
        "    print(\"Número fuera del rango permitido\")"
      ]
    }
  ]
}