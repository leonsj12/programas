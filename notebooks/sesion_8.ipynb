{
  "nbformat": 4,
  "nbformat_minor": 0,
  "metadata": {
    "colab": {
      "provenance": []
    },
    "kernelspec": {
      "name": "python3",
      "display_name": "Python 3"
    },
    "language_info": {
      "name": "python"
    }
  },
  "cells": [
    {
      "cell_type": "markdown",
      "source": [
        "# Este ejemplo demuestra el uso de estructuras condicionales anidadas en Python\n",
        " para simular un menú interactivo de comida o bebida. El objetivo es desarrollar\n",
        " habilidades de control de flujo y entrada de datos del usuario.\n",
        "\n",
        " Autor: Sara Leon\n",
        "\n",
        " Fecha: 04/04/2025\n",
        "\n",
        " Título: Menú de comida o bebida con condicionales en Python"
      ],
      "metadata": {
        "id": "xPZO-qFyMsOM"
      }
    },
    {
      "cell_type": "code",
      "source": [
        "# Se solicita al usuario que indique si desea almuerzo o bebida.\n",
        "preferencia = input(\"¿Prefieres 'almuerzo' o 'bebida'? \").lower()\n",
        "\n",
        "# Evaluamos la elección del usuario\n",
        "if preferencia == \"almuerzo\":\n",
        "    # Menú de carnes\n",
        "    carne = input(\"Elige una carne: 'carne', 'pollo', o 'pescado': \").lower()\n",
        "\n",
        "    if carne == \"carne\":\n",
        "        preparacion = input(\"¿Cómo deseas la carne? 'asada' o 'guisada': \").lower()\n",
        "        if preparacion in [\"asada\", \"guisada\"]:\n",
        "            print(f\"Has elegido carne {preparacion}.\")\n",
        "        else:\n",
        "            print(\"Lo sentimos, no tenemos esa opción de preparación.\")\n",
        "\n",
        "    elif carne == \"pollo\":\n",
        "        preparacion = input(\"¿Cómo deseas el pollo? 'frito' o 'horneado': \").lower()\n",
        "        if preparacion in [\"frito\", \"horneado\"]:\n",
        "            print(f\"Has elegido pollo {preparacion}.\")\n",
        "        else:\n",
        "            print(\"Lo sentimos, no tenemos esa opción de preparación.\")\n",
        "\n",
        "    elif carne == \"pescado\":\n",
        "        preparacion = input(\"¿Cómo deseas el pescado? 'empanizado' o 'al vapor': \").lower()\n",
        "        if preparacion in [\"empanizado\", \"al vapor\"]:\n",
        "            print(f\"Has elegido pescado {preparacion}.\")\n",
        "        else:\n",
        "            print(\"Lo sentimos, no tenemos esa opción de preparación.\")\n",
        "\n",
        "    else:\n",
        "        print(\"Lo sentimos, no tenemos esa carne en el menú.\")\n",
        "\n",
        "elif preferencia == \"bebida\":\n",
        "    bebida = input(\"Elige una bebida: 'jugo', 'soda' o 'agua': \").lower()\n",
        "\n",
        "    if bebida == \"jugo\":\n",
        "        fruta = input(\"¿De qué fruta deseas el jugo? 'naranja', 'piña' o 'fresa': \").lower()\n",
        "        if fruta in [\"naranja\", \"piña\", \"fresa\"]:\n",
        "            print(f\"Has elegido jugo de {fruta}.\")\n",
        "        else:\n",
        "            print(\"Lo sentimos, no tenemos esa fruta para el jugo.\")\n",
        "\n",
        "    elif bebida == \"soda\":\n",
        "        tipo_soda = input(\"¿Qué soda deseas? 'cola', 'limón' o 'naranja': \").lower()\n",
        "        if tipo_soda in [\"cola\", \"limón\", \"naranja\"]:\n",
        "            print(f\"Has elegido soda sabor {tipo_soda}.\")\n",
        "        else:\n",
        "            print(\"Lo sentimos, no tenemos esa soda.\")\n",
        "\n",
        "    elif bebida == \"agua\":\n",
        "        tipo_agua = input(\"¿Qué tipo de agua deseas? 'natural', 'con gas' o 'con limón': \").lower()\n",
        "        if tipo_agua in [\"natural\", \"con gas\", \"con limón\"]:\n",
        "            print(f\"Has elegido agua {tipo_agua}.\")\n",
        "        else:\n",
        "            print(\"Lo sentimos, no tenemos esa agua disponible.\")\n",
        "\n",
        "    else:\n",
        "        print(\"Lo sentimos, no tenemos esa opción de bebida.\")\n",
        "\n",
        "else:\n",
        "    print(\"Opción no válida. Por favor elige entre 'almuerzo' o 'drink'.\")"
      ],
      "metadata": {
        "colab": {
          "base_uri": "https://localhost:8080/"
        },
        "id": "4kkjmEREMQRC",
        "outputId": "3ccfc6af-00f7-484c-a993-c4c56a3857df"
      },
      "execution_count": 3,
      "outputs": [
        {
          "output_type": "stream",
          "name": "stdout",
          "text": [
            "¿Prefieres 'almuerzo' o 'bebida'? bebida\n",
            "Elige una bebida: 'jugo', 'soda' o 'agua': jugo\n",
            "¿De qué fruta deseas el jugo? 'naranja', 'piña' o 'fresa': naranja\n",
            "Has elegido jugo de naranja.\n"
          ]
        }
      ]
    }
  ]
}