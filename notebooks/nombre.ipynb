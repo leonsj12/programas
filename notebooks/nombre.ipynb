{
  "nbformat": 4,
  "nbformat_minor": 0,
  "metadata": {
    "colab": {
      "provenance": []
    },
    "kernelspec": {
      "name": "python3",
      "display_name": "Python 3"
    },
    "language_info": {
      "name": "python"
    }
  },
  "cells": [
    {
      "cell_type": "code",
      "execution_count": 1,
      "metadata": {
        "colab": {
          "base_uri": "https://localhost:8080/"
        },
        "id": "HHtPqwU0ISgu",
        "outputId": "79ab0a13-87b0-40a3-dade-3a87453d7db8"
      },
      "outputs": [
        {
          "output_type": "stream",
          "name": "stdout",
          "text": [
            "Ingresa tu nombre completo: Sara Julieth Leon Gonzalez\n",
            "Nombre completo en minúsculas: sara julieth leon gonzalez\n",
            "Primer nombre: sara\n",
            "Inicial del primer nombre: s\n",
            "Longitud del nombre completo: 26\n",
            "Nombre formateado: sara_julieth_leon_gonzalez\n"
          ]
        }
      ],
      "source": [
        "# Solicitar el nombre completo del usuario\n",
        "nombre_completo = input(\"Ingresa tu nombre completo: \")\n",
        "\n",
        "# Convertir el nombre completo a minúsculas\n",
        "nombre_completo = nombre_completo.lower()\n",
        "\n",
        "# Dividir el nombre completo en palabras\n",
        "palabras_nombre = nombre_completo.split()\n",
        "\n",
        "# Obtener el primer nombre\n",
        "primer_nombre = palabras_nombre[0]\n",
        "\n",
        "# Obtener la inicial del primer nombre\n",
        "inicial_primer_nombre = primer_nombre[0]\n",
        "\n",
        "# Calcular la longitud del nombre completo\n",
        "longitud_nombre = len(nombre_completo)\n",
        "\n",
        "# Reemplazar espacios por guiones bajos\n",
        "nombre_formateado = nombre_completo.replace(\" \", \"_\")\n",
        "\n",
        "# Imprimir los resultados\n",
        "print(\"Nombre completo en minúsculas:\", nombre_completo)\n",
        "print(\"Primer nombre:\", primer_nombre)\n",
        "print(\"Inicial del primer nombre:\", inicial_primer_nombre)\n",
        "print(\"Longitud del nombre completo:\", longitud_nombre)\n",
        "print(\"Nombre formateado:\", nombre_formateado)\n"
      ]
    }
  ]
}