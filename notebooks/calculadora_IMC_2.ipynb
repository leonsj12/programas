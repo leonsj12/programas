{
  "nbformat": 4,
  "nbformat_minor": 0,
  "metadata": {
    "colab": {
      "provenance": []
    },
    "kernelspec": {
      "name": "python3",
      "display_name": "Python 3"
    },
    "language_info": {
      "name": "python"
    }
  },
  "cells": [
    {
      "cell_type": "markdown",
      "source": [
        "## Proyecto Arukay: Cálculo del Índice de Masa Corporal (IMC)\n",
        "\n",
        "### Descripción\n",
        "El Índice de Masa Corporal (IMC) es un indicador utilizado para evaluar si una persona tiene un peso saludable en relación con su altura. Se calcula dividiendo el peso en kilogramos entre el cuadrado de la altura en metros. Este proyecto permite calcular el IMC de un usuario y determinar si se encuentra dentro del rango saludable según los estándares de la Organización Mundial de la Salud (OMS).\n",
        "\n",
        "### Objetivos\n",
        "1. Solicitar al usuario su altura y peso.\n",
        "2. Calcular el IMC utilizando la fórmula establecida.\n",
        "3. Definir el rango de IMC considerado saludable.\n",
        "4. Verificar si el IMC del usuario está dentro del rango saludable.\n",
        "5. Proporcionar un mensaje con los resultados y recomendaciones."
      ],
      "metadata": {
        "id": "P1WAVZjZ4S9H"
      }
    },
    {
      "cell_type": "code",
      "execution_count": 5,
      "metadata": {
        "colab": {
          "base_uri": "https://localhost:8080/"
        },
        "id": "nJGuQVxR3qK2",
        "outputId": "24b7b285-d49f-40e9-a88e-e5ff5ff29a1d"
      },
      "outputs": [
        {
          "output_type": "stream",
          "name": "stdout",
          "text": [
            "Ingrese su altura en metros: 1.67\n",
            "Ingrese su peso en kilogramos: 65\n",
            "Su IMC es: 23.31\n",
            "¿Está dentro del rango saludable? True\n",
            "Su peso está equilibrado respecto a su altura.\n"
          ]
        }
      ],
      "source": [
        "# Paso 1. Solicitar al usuario que ingrese su altura en metros y su peso en kilogramos\n",
        "# Guardamos los valores en variables diferentes\n",
        "\n",
        "altura = float(input(\"Ingrese su altura en metros: \"))  # Solicitamos la altura y convertimos a float\n",
        "peso = float(input(\"Ingrese su peso en kilogramos: \"))  # Solicitamos el peso y convertimos a float"
      ]
    },
    {
      "cell_type": "code",
      "source": [
        "# Paso 2. Calcular el IMC utilizando la fórmula: IMC = peso / (altura * altura)\n",
        "\n",
        "imc = peso / (altura ** 2)  # Fórmula del IMC"
      ],
      "metadata": {
        "id": "zF3cFNud4mw9"
      },
      "execution_count": null,
      "outputs": []
    },
    {
      "cell_type": "code",
      "source": [
        "# Paso 3. Definir los rangos saludables de IMC\n",
        "\n",
        "rango_saludable_min = 18.5\n",
        "rango_saludable_max = 24.9"
      ],
      "metadata": {
        "id": "3BJ6BA_J4pwC"
      },
      "execution_count": null,
      "outputs": []
    },
    {
      "cell_type": "code",
      "source": [
        "# Paso 4. Comprobar si el IMC calculado se encuentra dentro del rango saludable\n",
        "\n",
        "en_rango_saludable = rango_saludable_min <= imc <= rango_saludable_max"
      ],
      "metadata": {
        "id": "0W119_q94srU"
      },
      "execution_count": null,
      "outputs": []
    },
    {
      "cell_type": "code",
      "source": [
        "# Mostrar resultados\n",
        "print(f\"Su IMC es: {imc:.2f}\")\n",
        "print(f\"¿Está dentro del rango saludable? {en_rango_saludable}\")\n",
        "\n",
        "# Explicación del resultado\n",
        "if en_rango_saludable:\n",
        "    print(\"Su peso está equilibrado respecto a su altura.\")\n",
        "else:\n",
        "    print(\"Su peso puede estar fuera del rango saludable. Considere consultar con un profesional de la salud.\")"
      ],
      "metadata": {
        "id": "fx1v8Sw04xM7"
      },
      "execution_count": null,
      "outputs": []
    },
    {
      "cell_type": "markdown",
      "source": [
        "### Resultados esperados\n",
        "El usuario ingresará su peso y altura, y el sistema calculará su IMC. Luego, el programa indicará si el IMC se encuentra dentro del rango saludable (18.5 - 24.9) o si está fuera de este, recomendando acudir a un profesional de la salud en caso necesario.\n",
        "\n",
        "### Conclusiones\n",
        "- El IMC es una herramienta útil para evaluar el peso corporal en relación con la altura.\n",
        "- Sin embargo, el IMC no tiene en cuenta la composición corporal, por lo que debe complementarse con otras evaluaciones médicas.\n",
        "- Mantener un IMC dentro del rango saludable puede reducir el riesgo de enfermedades relacionadas con el peso, como la obesidad o la desnutrición.\n",
        "\n",
        "### Referencia\n",
        "Organización Mundial de la Salud (OMS). \"Índice de Masa Corporal (IMC)\". Disponible en: [https://www.who.int/news-room/fact-sheets/detail/obesity-and-overweight](https://www.who.int/news-room/fact-sheets/detail/obesity-and-overweight)\n"
      ],
      "metadata": {
        "id": "6_aFmr1n6C0l"
      }
    }
  ]
}